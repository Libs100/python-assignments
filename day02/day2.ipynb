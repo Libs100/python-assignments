{
 "cells": [
  {
   "cell_type": "code",
   "execution_count": 5,
   "id": "b20964eb-034a-4db9-bafe-3717e4b7dcfd",
   "metadata": {},
   "outputs": [
    {
     "name": "stdout",
     "output_type": "stream",
     "text": [
      "Rectangle area: 48\n",
      "Rectangle circumference: 28\n",
      "Circle area: 78.53981633974483\n",
      "Circle circumference: 31.41592653589793\n"
     ]
    }
   ],
   "source": [
    "import math\n",
    "width = 6\n",
    "length = 8\n",
    "area_rectangle = width * length\n",
    "circumference_rectangle = 2 * (width + length)\n",
    "\n",
    "radius = 5\n",
    "area_circle = math.pi * radius ** 2\n",
    "circumference_circle = 2 * math.pi * radius\n",
    "\n",
    "print(\"Rectangle area:\", area_rectangle)\n",
    "print(\"Rectangle circumference:\", circumference_rectangle)\n",
    "print(\"Circle area:\", area_circle)\n",
    "print(\"Circle circumference:\", circumference_circle)"
   ]
  },
  {
   "cell_type": "code",
   "execution_count": null,
   "id": "eeaa46e5-e755-4a17-8d96-01a2f5166a57",
   "metadata": {},
   "outputs": [],
   "source": []
  }
 ],
 "metadata": {
  "kernelspec": {
   "display_name": "Python 3 (ipykernel)",
   "language": "python",
   "name": "python3"
  },
  "language_info": {
   "codemirror_mode": {
    "name": "ipython",
    "version": 3
   },
   "file_extension": ".py",
   "mimetype": "text/x-python",
   "name": "python",
   "nbconvert_exporter": "python",
   "pygments_lexer": "ipython3",
   "version": "3.12.7"
  }
 },
 "nbformat": 4,
 "nbformat_minor": 5
}
