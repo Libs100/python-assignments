{
 "cells": [
  {
   "cell_type": "code",
   "execution_count": 8,
   "id": "48d441b2-1632-4e42-acbc-26be082dcb7c",
   "metadata": {},
   "outputs": [
    {
     "name": "stdout",
     "output_type": "stream",
     "text": [
      "Welcome to the Number Guessing Game!\n",
      "The computer will choose a number between 1 and 20. Try to guess it!\n",
      "\n",
      "A new game has started!\n"
     ]
    },
    {
     "name": "stdin",
     "output_type": "stream",
     "text": [
      "Enter your guess (or 'x' to exit, 'n' for new game, 's' to show the number):  6\n"
     ]
    },
    {
     "name": "stdout",
     "output_type": "stream",
     "text": [
      "Too big! You're shooting for the stars, huh?\n"
     ]
    },
    {
     "name": "stdin",
     "output_type": "stream",
     "text": [
      "Enter your guess (or 'x' to exit, 'n' for new game, 's' to show the number):  3\n"
     ]
    },
    {
     "name": "stdout",
     "output_type": "stream",
     "text": [
      "Spot on! Are you a wizard? You guessed it in 2 attempts!\n"
     ]
    },
    {
     "name": "stdin",
     "output_type": "stream",
     "text": [
      "Do you want to play again? (yes/no):  yes\n"
     ]
    },
    {
     "name": "stdout",
     "output_type": "stream",
     "text": [
      "\n",
      "A new game has started!\n"
     ]
    },
    {
     "name": "stdin",
     "output_type": "stream",
     "text": [
      "Enter your guess (or 'x' to exit, 'n' for new game, 's' to show the number):  s\n"
     ]
    },
    {
     "name": "stdout",
     "output_type": "stream",
     "text": [
      "Cheating, huh? The secret number is: 19\n"
     ]
    },
    {
     "name": "stdin",
     "output_type": "stream",
     "text": [
      "Enter your guess (or 'x' to exit, 'n' for new game, 's' to show the number):  n\n"
     ]
    },
    {
     "name": "stdout",
     "output_type": "stream",
     "text": [
      "Alright, starting a new game!\n"
     ]
    },
    {
     "name": "stdin",
     "output_type": "stream",
     "text": [
      "Do you want to play again? (yes/no):  yes\n"
     ]
    },
    {
     "name": "stdout",
     "output_type": "stream",
     "text": [
      "\n",
      "A new game has started!\n"
     ]
    },
    {
     "name": "stdin",
     "output_type": "stream",
     "text": [
      "Enter your guess (or 'x' to exit, 'n' for new game, 's' to show the number):  x\n"
     ]
    },
    {
     "name": "stdout",
     "output_type": "stream",
     "text": [
      "Goodbye! Come back when you're ready for another challenge!\n"
     ]
    }
   ],
   "source": [
    "import random\n",
    "\n",
    "def get_guess():\n",
    "    \"\"\"Prompts the user for a guess and handles special commands.\"\"\"\n",
    "    guess = input(\"Enter your guess (or 'x' to exit, 'n' for new game, 's' to show the number): \").strip().lower()\n",
    "    return guess\n",
    "\n",
    "def process_guess(guess, secret_number):\n",
    "    \"\"\"Processes the user's guess with a touch of humor.\"\"\"\n",
    "    if guess < secret_number:\n",
    "        return \"Too small! Think bigger, like a giant.\"\n",
    "    elif guess > secret_number:\n",
    "        return \"Too big! You're shooting for the stars, huh?\"\n",
    "    else:\n",
    "        return \"Spot on! Are you a wizard?\"\n",
    "\n",
    "def main():\n",
    "    print(\"Welcome to the Number Guessing Game!\")\n",
    "    print(\"The computer will choose a number between 1 and 20. Try to guess it!\")\n",
    "    \n",
    "    while True:\n",
    "        secret_number = random.randint(1, 20)\n",
    "        attempts = 0\n",
    "        print(\"\\nA new game has started!\")\n",
    "        \n",
    "        while True:\n",
    "            guess = get_guess()\n",
    "            \n",
    "            if guess == 'x':\n",
    "                print(\"Goodbye! Come back when you're ready for another challenge!\")\n",
    "                return\n",
    "            elif guess == 'n':\n",
    "                print(\"Alright, starting a new game!\")\n",
    "                break\n",
    "            elif guess == 's':\n",
    "                print(f\"Cheating, huh? The secret number is: {secret_number}\")\n",
    "                continue\n",
    "            \n",
    "            try:\n",
    "                guess = int(guess)\n",
    "                attempts += 1\n",
    "                \n",
    "                if guess < secret_number:\n",
    "                    print(\"Too small! Think bigger, like a giant.\")\n",
    "                elif guess > secret_number:\n",
    "                    print(\"Too big! You're shooting for the stars, huh?\")\n",
    "                else:\n",
    "                    print(f\"Spot on! Are you a wizard? You guessed it in {attempts} attempts!\")\n",
    "                    break\n",
    "            except ValueError:\n",
    "                print(\"Invalid input! Please enter a number between 1 and 20, or a valid command ('x', 'n', 's').\")\n",
    "        \n",
    "        play_again = input(\"Do you want to play again? (yes/no): \").strip().lower()\n",
    "        if play_again != 'yes':\n",
    "            print(\"Thanks for playing! See you next time.\")\n",
    "            break\n",
    "\n",
    "if __name__ == \"__main__\":\n",
    "    main()\n"
   ]
  },
  {
   "cell_type": "code",
   "execution_count": null,
   "id": "5a4540af-2572-4789-a40c-ae92f5da7ce3",
   "metadata": {},
   "outputs": [],
   "source": []
  }
 ],
 "metadata": {
  "kernelspec": {
   "display_name": "Python 3 (ipykernel)",
   "language": "python",
   "name": "python3"
  },
  "language_info": {
   "codemirror_mode": {
    "name": "ipython",
    "version": 3
   },
   "file_extension": ".py",
   "mimetype": "text/x-python",
   "name": "python",
   "nbconvert_exporter": "python",
   "pygments_lexer": "ipython3",
   "version": "3.12.7"
  }
 },
 "nbformat": 4,
 "nbformat_minor": 5
}
