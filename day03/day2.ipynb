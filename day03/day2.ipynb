import math

# Get inputs from the user
radius = int(input("What is the radius of the circle? "))
width = int(input("What is the width of the rectangle? "))
length = int(input("What is the length of the rectangle? "))

# Calculate rectangle area and circumference
area_rectangle = width * length
circumference_rectangle = 2 * (width + length)

# Calculate circle area and circumference
area_circle = math.pi * radius ** 2
circumference_circle = 2 * math.pi * radius

# Print results
print(f"\nRectangle:")
print(f"  Area: {area_rectangle}")
print(f"  Circumference: {circumference_rectangle}")

print(f"\nCircle:")
print(f"  Area: {int(area_circle)}")
print(f"  Circumference: {int(circumference_circle)}")

