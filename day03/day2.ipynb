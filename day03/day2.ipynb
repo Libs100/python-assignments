{
 "cells": [
  {
   "cell_type": "code",
   "execution_count": null,
   "id": "circle-rectangle-calculations",
   "metadata": {},
   "outputs": [],
   "source": [
    "import math\n",
    "\n",
    "# Get inputs from the user\n",
    "radius = int(input(\"What is the radius of the circle? \"))\n",
    "width = int(input(\"What is the width of the rectangle? \"))\n",
    "length = int(input(\"What is the length of the rectangle? \"))\n",
    "\n",
    "# Calculate rectangle area and circumference\n",
    "area_rectangle = width * length\n",
    "circumference_rectangle = 2 * (width + length)\n",
    "\n",
    "# Calculate circle area and circumference\n",
    "area_circle = math.pi * radius ** 2\n",
    "circumference_circle = 2 * math.pi * radius\n",
    "\n",
    "# Print results\n",
    "print(f\"\\nRectangle:\")\n",
    "print(f\"  Area: {area_rectangle}\")\n",
    "print(f\"  Circumference: {circumference_rectangle}\")\n",
    "\n",
    "print(f\"\\nCircle:\")\n",
    "print(f\"  Area: {int(area_circle)}\")\n",
    "print(f\"  Circumference: {int(circumference_circle)}\")"
   ]
  }
 ],
 "metadata": {
  "kernelspec": {
   "display_name": "Python 3 (ipykernel)",
   "language": "python",
   "name": "python3"
  },
  "language_info": {
   "codemirror_mode": {
    "name": "ipython",
    "version": 3
   },
   "file_extension": ".py",
   "mimetype": "text/x-python",
   "name": "python",
   "nbconvert_exporter": "python",
   "pygments_lexer": "ipython3",
   "version": "3.10.9"
  }
 },
 "nbformat": 4,
 "nbformat_minor": 5
}
