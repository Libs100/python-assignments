{
  "cells": [
    {
      "cell_type": "markdown",
      "metadata": {},
      "source": [
        "# Dilution Calculation and Visualization"
      ]
    },
    {
      "cell_type": "markdown",
      "metadata": {},
      "source": [
        "### Introduction:\n",
        "In this assignment, we will practice using Python to solve a common problem in biology labs: calculating dilutions of solutions. You will learn how to use a for loop to perform repeated calculations and use matplotlib to visualize your results."
      ]
    },
    {
      "cell_type": "markdown",
      "metadata": {},
      "source": [
        "### Biology Background:\n",
        "When working in the lab, you often need to prepare solutions with specific concentrations. If you have a stock solution with a known concentration (\n",
        "C1) and you want to dilute it to a lower concentration (C2), you use the following formula:\n",
        "\n",
        "<img src=\"https://toptipbio.com/wp-content/uploads/2017/02/C1V1C2V2.jpg\" alt=\"Dilution Formula\" width=\"300\">\n",
        "\n",
        "Where:\n",
        "- **\\(C1\\)**: Initial (stock) concentration\n",
        "- **\\(V1\\)**: Volume of the stock solution used\n",
        "- **\\(C2\\)**: Final concentration after dilution\n",
        "- **\\(V2\\)**: Final total volume of the solution"
      ]
    },
    {
      "cell_type": "code",
      "execution_count": 1,
      "metadata": {},
      "outputs": [],
      "source": [
        "# Define the Given Values\n",
        "C1_values = [5, 10, 15, 20, 25, 30, 35, 40, 45, 50]  # Initial concentrations in mg/mL\n",
        "V1 = 2  # Initial volume in mL\n",
        "V2 = 20  # Final volume in mL"
      ]
    },
    {
      "cell_type": "markdown",
      "metadata": {},
      "source": [
        "### Calculate Final Concentrations Using a For Loop"
      ]
    },
    {
      "cell_type": "code",
      "execution_count": 2,
      "metadata": {},
      "outputs": [
        {
          "name": "stdout",
          "output_type": "stream",
          "text": [
            "Initial concentration: 5 mg/mL -> Final concentration: 0.50 mg/mL\n",
            "Initial concentration: 10 mg/mL -> Final concentration: 1.00 mg/mL\n",
            "Initial concentration: 15 mg/mL -> Final concentration: 1.50 mg/mL\n",
            "Initial concentration: 20 mg/mL -> Final concentration: 2.00 mg/mL\n",
            "Initial concentration: 25 mg/mL -> Final concentration: 2.50 mg/mL\n",
            "Initial concentration: 30 mg/mL -> Final concentration: 3.00 mg/mL\n",
            "Initial concentration: 35 mg/mL -> Final concentration: 3.50 mg/mL\n",
            "Initial concentration: 40 mg/mL -> Final concentration: 4.00 mg/mL\n",
            "Initial concentration: 45 mg/mL -> Final concentration: 4.50 mg/mL\n",
            "Initial concentration: 50 mg/mL -> Final concentration: 5.00 mg/mL\n"
          ]
        }
      ],
      "source": [
        "# Calculate Final Concentrations\n",
        "C2_values = []\n",
        "for C1 in C1_values:\n",
        "    C2 = (C1 * V1) / V2  # Dilution formula\n",
        "    C2_values.append(C2)\n",
        "    print(f\"Initial concentration: {C1} mg/mL -> Final concentration: {C2:.2f} mg/mL\")"
      ]
    },
    {
      "cell_type": "markdown",
      "metadata": {},
      "source": [
        "### Calculate the Slope"
      ]
    },
    {
      "cell_type": "code",
      "execution_count": 3,
      "metadata": {},
      "outputs": [
        {
          "name": "stdout",
          "output_type": "stream",
          "text": [
            "Calculated slopes: [0.05, 0.05, 0.05, 0.05, 0.05, 0.05, 0.05, 0.05, 0.05]\n"
          ]
        }
      ],
      "source": [
        "# Calculate the Slope for Each Consecutive Pair\n",
        "slopes = []\n",
        "for i in range(1, len(C1_values)):\n",
        "    x1, x2 = C1_values[i - 1], C1_values[i]\n",
        "    y1, y2 = C2_values[i - 1], C2_values[i]\n",
        "    slope = (y2 - y1) / (x2 - x1)\n",
        "    slopes.append(slope)\n",
        "\n",
        "print(\"Calculated slopes:\", slopes)"
      ]
    },
    {
      "cell_type": "markdown",
      "metadata": {},
      "source": [
        "### Complex Biological Formula: Michaelis-Menten Kinetics"
      ]
    },
    {
      "cell_type": "code",
      "execution_count": 4,
      "metadata": {},
      "outputs": [
        {
          "name": "stdout",
          "output_type": "stream",
          "text": [
            "Substrate Concentration: 1 mM -> Reaction Velocity: 0.33 mM/s\n",
            "
