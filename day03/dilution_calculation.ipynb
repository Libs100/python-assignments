{
 "cells": [
  {
   "cell_type": "markdown",
   "metadata": {},
   "source": [
    "# Dilution Calculation and Visualization"
   ]
  },
  {
   "cell_type": "markdown",
   "metadata": {},
   "source": [
    "### Introduction:\n",
    "In this assignment, we will practice using Python to solve a common problem in biology labs: calculating dilutions of solutions. You will learn how to use a for loop to perform repeated calculations and use matplotlib to visualize your results."
   ]
  },
  {
   "cell_type": "markdown",
   "metadata": {},
   "source": [
    "### Biology Background:\n",
    "When working in the lab, you often need to prepare solutions with specific concentrations. If you have a stock solution with a known concentration (\n",
    "C1) and you want to dilute it to a lower concentration (C2), you use the following formula:\n",
    "\n",
    "<img src=\"https://toptipbio.com/wp-content/uploads/2017/02/C1V1C2V2.jpg\" alt=\"Dilution Formula\" width=\"300\">\n",
    "\n",
    "Where:\n",
    "- **\\(C1\\)**: Initial (stock) concentration\n",
    "- **\\(V1\\)**: Volume of the stock solution used\n",
    "- **\\(C2\\)**: Final concentration after dilution\n",
    "- **\\(V2\\)**: Final total volume of the solution"
   ]
  },
  {
   "cell_type": "code",
   "execution_count": 1,
   "metadata": {},
   "outputs": [],
   "source": [
    "# Given values\n",
    "C1_values = [10, 20, 30, 40, 50, 60, 70, 80, 90, 100]  # Initial concentrations in mg/mL\n",
    "V1 = 1  # Initial volume in mL\n",
    "V2 = 10  # Final volume in mL\n"
   ]
  },
  {
   "cell_type": "markdown",
   "metadata": {},
   "source": [
    "### Calculate Final Concentrations Using a For Loop"
   ]
  },
  {
   "cell_type": "code",
   "execution_count": 2,
   "metadata": {},
   "outputs": [
    {
     "name": "stdout",
     "output_type": "stream",
     "text": [
      "Initial concentration: 10 mg/mL -> Final concentration: 1.00 mg/mL\n",
      "Initial concentration: 20 mg/mL -> Final concentration: 2.00 mg/mL\n",
      "Initial concentration: 30 mg/mL -> Final concentration: 3.00 mg/mL\n",
      "Initial concentration: 40 mg/mL -> Final concentration: 4.00 mg/mL\n",
      "Initial concentration: 50 mg/mL -> Final concentration: 5.00 mg/mL\n",
      "Initial concentration: 60 mg/mL -> Final concentration: 6.00 mg/mL\n",
      "Initial concentration: 70 mg/mL -> Final concentration: 7.00 mg/mL\n",
      "Initial concentration: 80 mg/mL -> Final concentration: 8.00 mg/mL\n",
      "Initial concentration: 90 mg/mL -> Final concentration: 9.00 mg/mL\n",
      "Initial concentration: 100 mg/mL -> Final concentration: 10.00 mg/mL\n"
     ]
    }
   ],
   "source": [
    "# Create an empty list to store the calculated C2 values\n",
    "C2_values = []\n",
    "\n",
    "# Calculate C2 using a for loop\n",
    "for C1 in C1_values:\n",
    "    C2 = (C1 * V1) / V2  # Dilution formula\n",
    "    C2_values.append(C2)\n",
    "    print(f\"Initial concentration: {C1} mg/mL -> Final concentration: {C2:.2f} mg/mL\")"
   ]
  },
  {
   "cell_type": "markdown",
   "metadata": {},
   "source": [
    "### Calculate the Slope"
   ]
  },
  {
   "cell_type": "code",
   "execution_count": 3,
   "metadata": {},
   "outputs": [
    {
     "name": "stdout",
     "output_type": "stream",
     "text": [
      "Calculated slopes: [0.1, 0.1, 0.1, 0.1, 0.1, 0.1, 0.1, 0.1, 0.1]\n"
     ]
    }
   ],
   "source": [
    "# Create an empty list to store slope values\n",
    "slopes = []\n",
    "\n",
    "# Calculate the slope for each consecutive pair of points\n",
    "for i in range(1, len(C1_values)):\n",
    "    x1, x2 = C1_values[i - 1], C1_values[i]\n",
    "    y1, y2 = C2_values[i - 1], C2_values[i]\n",
    "    slope = (y2 - y1) / (x2 - x1)  # Slope formula\n",
    "    slopes.append(slope)\n",
    "\n",
    "# Print the list of calculated slopes\n",
    "print(\"Calculated slopes:\", slopes)"
   ]
  },
  {
   "cell_type": "markdown",
   "metadata": {},
   "source": [
    "### Cell Viability After Dilution"
   ]
  },
  {
   "cell_type": "code",
   "execution_count": 4,
   "metadata": {},
   "outputs": [
    {
     "name": "stdout",
     "output_type": "stream",
     "text": [
      "Final concentration: 1 mg/mL -> Viable concentration: 0.80 mg/mL\n",
      "Final concentration: 2 mg/mL -> Viable concentration: 1.60 mg/mL\n",
      "Final concentration: 3 mg/mL -> Viable concentration: 2.40 mg/mL\n",
      "Final concentration: 4 mg/mL -> Viable concentration: 3.20 mg/mL\n",
      "Final concentration: 5 mg/mL -> Viable concentration: 4.00 mg/mL\n",
      "Final concentration: 6 mg/mL -> Viable concentration: 4.80 mg/mL\n",
      "Final concentration: 7 mg/mL -> Viable concentration: 5.60 mg/mL\n",
      "Final concentration: 8 mg/mL -> Viable concentration: 6.40 mg/mL\n",
      "Final concentration: 9 mg/mL -> Viable concentration: 7.20 mg/mL\n",
      "Final concentration: 10 mg/mL -> Viable concentration: 8.00 mg/mL\n"
     ]
    }
   ],
   "source": [
    "viability_percentage = 80  # Percentage of cells that survive the dilution process\n",
    "viable_C2_values = []\n",
    "\n",
    "for C2 in C2_values:\n",
    "    viable_C2 = C2 * (viability_percentage / 100)\n",
    "    viable_C2_values.append(viable_C2)\n",
    "    print(f\"Final concentration: {C2:.0f} mg/mL -> Viable concentration: {viable_C2:.2f} mg/mL\")"
   ]
  }
 ],
 "metadata": {
  "kernelspec": {
   "display_name": "Python 3",
   "language": "python",
   "name": "python3"
  },
  "language_info": {
   "file_extension": ".py",
   "mimetype": "text/x-python",
   "name": "python",
   "pygments_lexer": "ipython3",
   "version": "3.10.0"
  }
 },
 "nbformat": 4,
 "nbformat_minor": 5
}
