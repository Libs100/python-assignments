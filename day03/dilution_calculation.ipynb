{
  "cells": [
    {
      "cell_type": "markdown",
      "metadata": {},
      "source": [
        "# Dilution Calculation and Visualization"
      ]
    },
    {
      "cell_type": "markdown",
      "metadata": {},
      "source": [
        "### Introduction:\n",
        "In this assignment, we will practice using Python to solve a common problem in biology labs: calculating dilutions of solutions. You will learn how to use a for loop to perform repeated calculations and use matplotlib to visualize your results."
      ]
    },
    {
      "cell_type": "markdown",
      "metadata": {},
      "source": [
        "### Biology Background:\n",
        "When working in the lab, you often need to prepare solutions with specific concentrations. If you have a stock solution with a known concentration (\n",
        "C1) and you want to dilute it to a lower concentration (C2), you use the following formula:\n",
        "\n",
        "<img src=\"https://toptipbio.com/wp-content/uploads/2017/02/C1V1C2V2.jpg\" alt=\"Dilution Formula\" width=\"300\">\n",
        "\n",
        "Where:\n",
        "- **\\(C1\\)**: Initial (stock) concentration\n",
        "- **\\(V1\\)**: Volume of the stock solution used\n",
        "- **\\(C2\\)**: Final concentration after dilution\n",
        "- **\\(V2\\)**: Final total volume of the solution"
      ]
    },
    {
      "cell_type": "markdown",
      "metadata": {},
      "source": [
        "## <font color='cyan'>Part 1: Define the Given Values</font>"
      ]
    },
    {
      "cell_type": "code",
      "execution_count": null,
      "metadata": {},
      "outputs": [],
      "source": [
        "# Given values\n",
        "C1_values = [10, 20, 30, 40, 50, 60, 70, 80, 90, 100]  # Initial concentrations in mg/mL\n",
        "V1 = 1  # Initial volume in mL\n",
        "V2 = 10  # Final volume in mL"
      ]
    },
    {
      "cell_type": "markdown",
      "metadata": {},
      "source": [
        "## <font color='cyan'>Part 2: Calculate the Final Concentrations Using a For Loop</font>"
      ]
    },
    {
      "cell_type": "code",
      "execution_count": null,
      "metadata": {},
      "outputs": [
        {
          "name": "stdout",
          "output_type": "stream",
          "text": [
            "Initial concentration: 10 mg/mL -> Final concentration: 1.00 mg/mL\n",
            "Initial concentration: 20 mg/mL -> Final concentration: 2.00 mg/mL\n",
            "Initial concentration: 30 mg/mL -> Final concentration: 3.00 mg/mL\n",
            "Initial concentration: 40 mg/mL -> Final concentration: 4.00 mg/mL\n",
            "Initial concentration: 50 mg/mL -> Final concentration: 5.00 mg/mL\n",
            "Initial concentration: 60 mg/mL -> Final concentration: 6.00 mg/mL\n",
            "Initial concentration: 70 mg/mL -> Final concentration: 7.00 mg/mL\n",
            "Initial concentration: 80 mg/mL -> Final concentration: 8.00 mg/mL\n",
            "Initial concentration: 90 mg/mL -> Final concentration: 9.00 mg/mL\n",
            "Initial concentration: 100 mg/mL -> Final concentration: 10.00 mg/mL\n"
          ]
        }
      ],
      "source": [
        "# Create an empty list to store the calculated C2 values\n",
        "C2_values = []\n",
        "\n",
        "# Calculate C2 using a for loop\n",
        "for C1 in C1_values:\n",
        "    C2 = (C1 * V1) / V2  # Dilution formula\n",
        "    C2_values.append(C2)\n",
        "    print(f\"Initial concentration: {C1} mg/mL -> Final concentration: {C2:.2f} mg/mL\")"
      ]
    },
    {
      "cell_type": "markdown",
      "metadata": {},
      "source": [
        "## <font color='cyan'>Part 3: Calculate the Slope</font>"
      ]
    },
    {
      "cell_type": "code",
      "execution_count": null,
      "metadata": {},
      "outputs": [
        {
          "name": "stdout",
          "output_type": "stream",
          "text": [
            "Calculated slopes: [0.1, 0.1, 0.1, 0.1, 0.1, 0.1, 0.1, 0.1, 0.1]\n"
          ]
        }
      ],
      "source": [
        "# Create an empty list to store slope values\n",
        "slopes = []\n",
        "\n",
        "# Calculate the slope for each consecutive pair of points\n",
        "for i in range(1, len(C1_values)):\n",
        "    x1, x2 = C1_values[i - 1], C1_values[i]\n",
        "    y1, y2 = C2_values[i - 1], C2_values[i]\n",
        "    slope = (y2 - y1) / (x2 - x1)\n",
        "    slopes.append(slope)\n",
        "\n",
        "# Print the list of calculated slopes\n",
        "print(\"Calculated slopes:\", slopes)"
      ]
    },
    {
      "cell_type": "markdown",
      "metadata": {},
      "source": [
        "## <font color='cyan'>Part 4: Michaelis-Menten Kinetics</font>"
      ]
    },
    {
      "cell_type": "code",
      "execution_count": null,
      "metadata": {},
      "outputs": [],
      "source": [
        "# Michaelis-Menten Kinetics\n",
        "Km = 5  # Michaelis constant in mM\n",
        "Vmax = 2  # Maximum reaction velocity in mM/s\n",
        "substrate_concentrations = [1, 5, 10, 15, 20, 25]  # Substrate concentrations in mM\n",
        "reaction_velocities = []\n",
        "\n",
        "for S in substrate_concentrations:\n",
        "    V = (Vmax * S) / (Km + S)  # Michaelis-Menten equation\n",
        "    reaction_velocities.append(V)\n",
        "    print(f\"Substrate concentration: {S} mM -> Reaction velocity: {V:.2f} mM/s\")"
      ]
    },
    {
  "cell_type": "code",
  "execution_count": null,
  "metadata": {},
  "outputs": [
    {
      "name": "stdout",
      "output_type": "stream",
      "text": [
        "Substrate concentration: 1 mM -> Reaction velocity: 0.33 mM/s\n",
        "Substrate concentration: 5 mM -> Reaction velocity: 1.00 mM/s\n",
        "Substrate concentration: 10 mM -> Reaction velocity: 1.33 mM/s\n",
        "Substrate concentration: 15 mM -> Reaction velocity: 1.50 mM/s\n",
        "Substrate concentration: 20 mM -> Reaction velocity: 1.60 mM/s\n",
        "Substrate concentration: 25 mM -> Reaction velocity: 1.67 mM/s\n"
      ]
    }
  ],
  "source": [
    "# Michaelis-Menten Kinetics\n",
    "Km = 5  # Michaelis constant in mM\n",
    "Vmax = 2  # Maximum reaction velocity in mM/s\n",
    "substrate_concentrations = [1, 5, 10, 15, 20, 25]  # Substrate concentrations in mM\n",
    "reaction_velocities = []\n",
    "\n",
    "# Calculate reaction velocities\n",
    "for S in substrate_concentrations:\n",
    "    V = (Vmax * S) / (Km + S)  # Michaelis-Menten equation\n",
    "    reaction_velocities.append(V)\n",
    "    print(f\"Substrate concentration: {S} mM -> Reaction velocity: {V:.2f} mM/s\")\n",
    "\n",
    "# Plot Michaelis-Menten Curve\n",
    "import matplotlib.pyplot as plt\n",
    "\n",
    "plt.figure(figsize=(8, 6))\n",
    "plt.plot(substrate_concentrations, reaction_velocities, marker='o', color='blue', label='Reaction Velocity')\n",
    "plt.xlabel(\"Substrate Concentration (mM)\")\n",
    "plt.ylabel(\"Reaction Velocity (mM/s)\")\n",
    "plt.title(\"Michaelis-Menten Kinetics\")\n",
    "plt.legend()\n",
    "plt.grid()\n",
    "plt.show()"
  ]
}

