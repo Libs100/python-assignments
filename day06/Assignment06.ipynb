{
 "cells": [
  {
   "cell_type": "markdown",
   "metadata": {},
   "source": [
    "## <font color ='Pink'> Assignment Title: Gene Counting and Dictionary Operations in Python"
   ]
  },
  {
   "cell_type": "markdown",
   "metadata": {},
   "source": [
    "### **Task 1: Count Genes**\n",
    "\n",
    "In this task, you are provided with a list of gene names separated by commas. The goal is to count how many genes are listed. You will achieve this by:\n",
    "\n",
    "1. **Splitting the Text**:\n",
    "   - Use the `.split(\",\")` method to divide the text into a list of gene names.\n",
    "   - Each gene name will become an individual element in the list.\n",
    "\n",
    "2. **Counting the Genes**:\n",
    "   - Use the `len()` function to determine the total number of elements (genes) in the list. \n",
    "   - This gives you the total count of genes in the sequence.\n",
    "\n",
    "\n"
   ]
  },
  {
   "cell_type": "code",
   "execution_count": 25,
   "metadata": {},
   "outputs": [
    {
     "name": "stdout",
     "output_type": "stream",
     "text": [
      "Total number of genes: 24\n"
     ]
    }
   ],
   "source": [
    "gene_sequence = \"BRCA1,TP53,EGFR,BRCA1,PTEN,MYC,KRAS,APOE,CFTR,BRCA2,PIK3CA,ALK,ATM,HER2,BRAF,BRCA1,EGFR,TP53,CDH1,ABL1,EGFR,TP53,MYC,BRCA2\"\n",
    "\n",
    "# Split the text into individual genes\n",
    "gene_sequence_new = gene_sequence.split(\",\")  # Split gene_sequence by commas and assign the result to gene_sequence_new\n",
    "\n",
    "# Count the number of genes\n",
    "num_genes = len(gene_sequence_new)  # Use len() to count the total number of genes\n",
    "\n",
    "print(f\"Total number of genes: {num_genes}\")\n"
   ]
  },
  {
   "cell_type": "markdown",
   "metadata": {},
   "source": [
    "### **Task 2: Create a Dictionary**\n",
    "\n",
    "In this task, you will manually create a dictionary to count each gene’s occurrences. You will:\n",
    "1. Start with an empty dictionary.\n",
    "2. Loop through the list of genes.\n",
    "3. Use an `if-else` condition to:\n",
    "   - Increment the count if the gene already exists in the dictionary.\n",
    "   - Add the gene with an initial count of `1` if it doesn’t exist.\n",
    "\n",
    "4. for the rest of the tasks use \n",
    "```\n",
    "gene_sequence_new\n",
    "```\n",
    "\n"
   ]
  },
  {
   "cell_type": "code",
   "execution_count": 29,
   "metadata": {},
   "outputs": [
    {
     "name": "stdout",
     "output_type": "stream",
     "text": [
      "\n",
      "🔍 --- Gene Occurrence Results --- 🔍\n",
      "----------------------------------------\n",
      "Gene       | Count\n",
      "----------------------------------------\n",
      "BRCA1      |     3\n",
      "TP53       |     3\n",
      "EGFR       |     3\n",
      "PTEN       |     1\n",
      "MYC        |     2\n",
      "KRAS       |     1\n",
      "APOE       |     1\n",
      "CFTR       |     1\n",
      "BRCA2      |     2\n",
      "PIK3CA     |     1\n",
      "ALK        |     1\n",
      "ATM        |     1\n",
      "HER2       |     1\n",
      "BRAF       |     1\n",
      "CDH1       |     1\n",
      "ABL1       |     1\n",
      "----------------------------------------\n",
      "✅ Total unique genes: 16\n"
     ]
    }
   ],
   "source": [
    "# Initialize an empty dictionary to store gene counts\n",
    "gene_counts = {}  # Create an empty dictionary\n",
    "\n",
    "# Loop through each gene in the list\n",
    "for gene in gene_sequence_new:\n",
    "    if gene in gene_counts:\n",
    "        # Increment the count for the gene\n",
    "        gene_counts[gene] += 1\n",
    "    else:\n",
    "        # Add the gene to the dictionary with a count of 1\n",
    "        gene_counts[gene] = 1\n",
    "\n",
    "# Print the result with a header\n",
    "print(\"\\n🔍 --- Gene Occurrence Results --- 🔍\")\n",
    "print(\"-\" * 40)\n",
    "print(f\"{'Gene':<10} | {'Count':>5}\")\n",
    "print(\"-\" * 40)\n",
    "for gene, count in gene_counts.items():\n",
    "    print(f\"{gene:<10} | {count:>5}\")  # Custom formatting for better alignment\n",
    "print(\"-\" * 40)\n",
    "print(f\"✅ Total unique genes: {len(gene_counts)}\")\n"
   ]
  },
  {
   "cell_type": "markdown",
   "metadata": {},
   "source": [
    "### **Task 3: Check Specific Genes in the Dictionary**\n",
    "\n",
    "\n",
    "In this task, you will use the gene count dictionary (`gene_counts`) to check if specific genes exist in the data and print their counts. You will:\n",
    "1. Loop through a list of genes to check.\n",
    "2. Use an `if` statement to check if the gene is in the dictionary.\n",
    "3. If the gene is found, print its count.\n",
    "4. If the gene is not found, print `\"not found\"`.\n",
    "5. Use the `.get()` method to safely retrieve the count of a gene with a default value of `0`.\n"
   ]
  },
  {
   "cell_type": "code",
   "execution_count": 33,
   "metadata": {},
   "outputs": [
    {
     "name": "stdout",
     "output_type": "stream",
     "text": [
      "🧬 BRCA1 🔍 Found with count: 3\n",
      "🧬 PTEN 🔍 Found with count: 1\n",
      "🧬 EGFR 🔍 Found with count: 3\n",
      "❌ FOXP3 Not found. Count: 0\n"
     ]
    }
   ],
   "source": [
    "# List of specific genes to check\n",
    "genes_to_check = [\"BRCA1\", \"PTEN\", \"EGFR\", \"FOXP3\"]\n",
    "\n",
    "# Loop through specific genes to check their presence in the gene count dictionary\n",
    "for gene in genes_to_check:\n",
    "    if gene in gene_counts:\n",
    "        # Print the gene and its count if found\n",
    "        print(f\"🧬 {gene} 🔍 Found with count: {gene_counts[gene]}\")\n",
    "    else:\n",
    "        # Print the gene and \"not found\" if not present\n",
    "        print(f\"❌ {gene} Not found. Count: {gene_counts.get(gene, 0)}\")\n",
    "\n",
    "\n"
   ]
  },
  {
   "cell_type": "markdown",
   "metadata": {},
   "source": [
    "### **Task: Add 4 Genes to an Existing List**\n",
    "\n",
    "\n",
    "1. Use the .extend() method to add all the elements of new_genes to gene_sequence_new.\n",
    "This method appends each element of new_genes to the end of gene_sequence_new.\n",
    "2. After adding, check and print the updated number of genes before and after using `len()`function"
   ]
  },
  {
   "cell_type": "code",
   "execution_count": 31,
   "metadata": {},
   "outputs": [
    {
     "name": "stdout",
     "output_type": "stream",
     "text": [
      "📋 Number of genes before adding new genes: 24\n",
      "🧬 Number of genes after adding new genes: 28\n",
      "✨ New genes added: GATA3, SMAD4, RB1, TP63\n"
     ]
    }
   ],
   "source": [
    "new_genes = [\"GATA3\", \"SMAD4\", \"RB1\", \"TP63\"]  # Add 4 new genes to the list\n",
    "\n",
    "print(f\"📋 Number of genes before adding new genes: {len(gene_sequence_new)}\")\n",
    "\n",
    "gene_sequence_new.extend(new_genes)\n",
    "\n",
    "print(f\"🧬 Number of genes after adding new genes: {len(gene_sequence_new)}\")\n",
    "print(f\"✨ New genes added: {', '.join(new_genes)}\")\n",
    "\n"
   ]
  },
  {
   "cell_type": "code",
   "execution_count": null,
   "metadata": {},
   "outputs": [],
   "source": []
  },
  {
   "cell_type": "code",
   "execution_count": null,
   "metadata": {},
   "outputs": [],
   "source": []
  }
 ],
 "metadata": {
  "kernelspec": {
   "display_name": "Python 3 (ipykernel)",
   "language": "python",
   "name": "python3"
  },
  "language_info": {
   "codemirror_mode": {
    "name": "ipython",
    "version": 3
   },
   "file_extension": ".py",
   "mimetype": "text/x-python",
   "name": "python",
   "nbconvert_exporter": "python",
   "pygments_lexer": "ipython3",
   "version": "3.12.7"
  }
 },
 "nbformat": 4,
 "nbformat_minor": 4
}
